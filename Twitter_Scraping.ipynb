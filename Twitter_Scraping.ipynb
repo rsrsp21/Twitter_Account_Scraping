{
 "cells": [
  {
   "cell_type": "code",
   "execution_count": null,
   "id": "07c91fb2",
   "metadata": {},
   "outputs": [],
   "source": [
    "import requests\n",
    "from bs4 import BeautifulSoup\n",
    "from itertools import cycle\n",
    "\n",
    "'''\n",
    "file = open('http_proxies.csv')\n",
    "d = file.read()\n",
    "proxy_list = d.split('\\n')\n",
    "'''\n",
    "proxy_list = [] # List of proxy ips\n",
    "profile_url = 'https://twitter.com/sachin_rt' # Twitter profile URL\n",
    "proxy_cycle = cycle(proxy_list) # Create a cycle of proxy IPs\n",
    "data = {} # Initialize variables to store scraped data\n",
    "session = requests.Session() # Set up a session with requests\n",
    "\n",
    "def rotate_proxy(): # Function to rotate proxy IPs\n",
    "    proxy = next(proxy_cycle)\n",
    "    session.proxies = {'http': proxy, 'https': proxy}\n",
    "\n",
    "def scrape_profile_data(url): # Function to scrape profile data\n",
    "    try:\n",
    "        response = session.get(url)  # Make a request using the current proxy IP\n",
    "        soup = BeautifulSoup(response.content, 'html.parser')  # Parse the HTML content using Beautiful Soup\n",
    "        # Scrape required data from the profile page\n",
    "        data['biography'] = soup.select_one('meta[name=\"description\"]')['content']\n",
    "        data['followers_count'] = int(soup.select_one('a[href=\"/sachin_rt/followers\"] span').text.replace(',', ''))\n",
    "        data['following_count'] = int(soup.select_one('a[href=\"/sachin_rt/following\"] span').text.replace(',', ''))\n",
    "        data['likes_count'] = int(soup.select_one('a[href=\"/sachin_rt/likes\"] span').text.replace(',', ''))\n",
    "        data['user_id'] = int(soup.select_one('div[data-testid=\"primaryColumn\"]')['data-legacy-profile-id'])\n",
    "        print(data) # Print the scraped data\n",
    "    except:\n",
    "        print(\"Request failed. Rotating proxy and retrying...\") # If request fails, rotate proxy and retry\n",
    "        rotate_proxy()\n",
    "        scrape_profile_data(url)\n",
    "\n",
    "scrape_profile_data(profile_url) # Start scraping the profile data"
   ]
  }
 ],
 "metadata": {
  "kernelspec": {
   "display_name": "Python 3 (ipykernel)",
   "language": "python",
   "name": "python3"
  },
  "language_info": {
   "codemirror_mode": {
    "name": "ipython",
    "version": 3
   },
   "file_extension": ".py",
   "mimetype": "text/x-python",
   "name": "python",
   "nbconvert_exporter": "python",
   "pygments_lexer": "ipython3",
   "version": "3.9.12"
  }
 },
 "nbformat": 4,
 "nbformat_minor": 5
}
